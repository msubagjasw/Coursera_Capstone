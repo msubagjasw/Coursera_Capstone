{
 "cells": [
  {
   "cell_type": "markdown",
   "metadata": {},
   "source": [
    "<h1>Battle of Neighborhood Week #1</h1>"
   ]
  },
  {
   "cell_type": "markdown",
   "metadata": {},
   "source": [
    "<h2>Introduction & Business Problem :</h2>"
   ]
  },
  {
   "cell_type": "markdown",
   "metadata": {},
   "source": [
    "<img src=\"https://media-exp1.licdn.com/dms/image/C511BAQG-vuRNhVFHCg/company-background_10000/0?e=2159024400&v=beta&t=uNhLqY16BvGC2qIDyC4zStpVgHCakpN4kL9AgufKvE8\" alt=\"MRT Jakarta\" width=\"500\" height=\"600\">"
   ]
  },
  {
   "cell_type": "markdown",
   "metadata": {},
   "source": [
    "<h3>Problem Background :</h3>\n",
    "If you have ever considered making a change and moving to live near MRT Station, you have probably, at some point, considered a variety of factors to determine where best to move. There are a lot of factors about where you live that can affect your quality of life and your happiness. One of most important factor is neighborhoods around the stations should be suitable with your needs and people needs might be different. For example if you are yoga enthusiast, you might be consider to live near yoga studio, or if you are movie addict, you might be consider to live near cinema, and so on.\n",
    "\n",
    "Therefore, for this capstone project, I will create a <b>recommender system by finding similarities of the user's needs and then match them with any station that has nearby venue by using the cosine of similarity technique.</b> So users will get a list of recommended places to live around the MRT Station based on their preference."
   ]
  },
  {
   "cell_type": "markdown",
   "metadata": {},
   "source": [
    "<h3>Data</h3>\n",
    "\n",
    "Data will be used here :\n",
    "<ol><li>List of MRT Station in Jakarta (Indonesia only have MRT in Jakarta right now) in wikipedia.</li>\n",
    "<li>Fetch Latitude and Longitude using Geopy as course before.</li>\n",
    "<li>Fetch all of categories venue using Foursquare API.</li>\n",
    "<li>List of preference venue from user.</li>\n",
    "</ol>"
   ]
  },
  {
   "cell_type": "markdown",
   "metadata": {},
   "source": [
    "<h4>Example Data</h4>"
   ]
  },
  {
   "cell_type": "code",
   "execution_count": 2,
   "metadata": {},
   "outputs": [],
   "source": [
    "import pandas as pd"
   ]
  },
  {
   "cell_type": "code",
   "execution_count": 8,
   "metadata": {},
   "outputs": [],
   "source": [
    "df_station = pd.DataFrame(columns=['Station Name', 'Latitude', 'Longitude' ] )"
   ]
  },
  {
   "cell_type": "code",
   "execution_count": 13,
   "metadata": {},
   "outputs": [
    {
     "data": {
      "text/html": [
       "<div>\n",
       "<style scoped>\n",
       "    .dataframe tbody tr th:only-of-type {\n",
       "        vertical-align: middle;\n",
       "    }\n",
       "\n",
       "    .dataframe tbody tr th {\n",
       "        vertical-align: top;\n",
       "    }\n",
       "\n",
       "    .dataframe thead th {\n",
       "        text-align: right;\n",
       "    }\n",
       "</style>\n",
       "<table border=\"1\" class=\"dataframe\">\n",
       "  <thead>\n",
       "    <tr style=\"text-align: right;\">\n",
       "      <th></th>\n",
       "      <th>Station Name</th>\n",
       "      <th>Latitude</th>\n",
       "      <th>Longitude</th>\n",
       "    </tr>\n",
       "  </thead>\n",
       "  <tbody>\n",
       "    <tr>\n",
       "      <th>0</th>\n",
       "      <td>Lebak Bulus</td>\n",
       "      <td>xxx</td>\n",
       "      <td>xxx</td>\n",
       "    </tr>\n",
       "    <tr>\n",
       "      <th>1</th>\n",
       "      <td>Blok M</td>\n",
       "      <td>xxy</td>\n",
       "      <td>xxy</td>\n",
       "    </tr>\n",
       "  </tbody>\n",
       "</table>\n",
       "</div>"
      ],
      "text/plain": [
       "  Station Name Latitude Longitude\n",
       "0  Lebak Bulus      xxx       xxx\n",
       "1       Blok M      xxy       xxy"
      ]
     },
     "execution_count": 13,
     "metadata": {},
     "output_type": "execute_result"
    }
   ],
   "source": [
    "#scraping from wikipedia and fetch Lat and Long using geopy\n",
    "df_station.loc[0] = ['Lebak Bulus', 'xxx', 'xxx']\n",
    "df_station.loc[1] = ['Blok M', 'xxy', 'xxy']\n",
    "df_station"
   ]
  },
  {
   "cell_type": "code",
   "execution_count": 17,
   "metadata": {},
   "outputs": [],
   "source": [
    "#list categorical venue using foursquare\n",
    "df_venue = pd.DataFrame(columns=['Station Name', 'Yoga Studio', 'Restaurant', 'Park', 'Cinema', 'Mall'])"
   ]
  },
  {
   "cell_type": "code",
   "execution_count": 20,
   "metadata": {},
   "outputs": [
    {
     "data": {
      "text/html": [
       "<div>\n",
       "<style scoped>\n",
       "    .dataframe tbody tr th:only-of-type {\n",
       "        vertical-align: middle;\n",
       "    }\n",
       "\n",
       "    .dataframe tbody tr th {\n",
       "        vertical-align: top;\n",
       "    }\n",
       "\n",
       "    .dataframe thead th {\n",
       "        text-align: right;\n",
       "    }\n",
       "</style>\n",
       "<table border=\"1\" class=\"dataframe\">\n",
       "  <thead>\n",
       "    <tr style=\"text-align: right;\">\n",
       "      <th></th>\n",
       "      <th>Station Name</th>\n",
       "      <th>Yoga Studio</th>\n",
       "      <th>Restaurant</th>\n",
       "      <th>Park</th>\n",
       "      <th>Cinema</th>\n",
       "      <th>Mall</th>\n",
       "    </tr>\n",
       "  </thead>\n",
       "  <tbody>\n",
       "    <tr>\n",
       "      <th>0</th>\n",
       "      <td>Lebak Bulus</td>\n",
       "      <td>0</td>\n",
       "      <td>1</td>\n",
       "      <td>0</td>\n",
       "      <td>1</td>\n",
       "      <td>0</td>\n",
       "    </tr>\n",
       "    <tr>\n",
       "      <th>1</th>\n",
       "      <td>Blok M</td>\n",
       "      <td>0</td>\n",
       "      <td>1</td>\n",
       "      <td>0</td>\n",
       "      <td>1</td>\n",
       "      <td>1</td>\n",
       "    </tr>\n",
       "  </tbody>\n",
       "</table>\n",
       "</div>"
      ],
      "text/plain": [
       "  Station Name Yoga Studio Restaurant Park Cinema Mall\n",
       "0  Lebak Bulus           0          1    0      1    0\n",
       "1       Blok M           0          1    0      1    1"
      ]
     },
     "execution_count": 20,
     "metadata": {},
     "output_type": "execute_result"
    }
   ],
   "source": [
    "#Finalizaton of dataframe station\n",
    "df_venue.loc[0] = ['Lebak Bulus', 0, 1, 0, 1, 0]\n",
    "df_venue.loc[1] = ['Blok M', 0, 1, 0, 1, 1]\n",
    "df_venue"
   ]
  },
  {
   "cell_type": "code",
   "execution_count": 22,
   "metadata": {},
   "outputs": [
    {
     "data": {
      "text/html": [
       "<div>\n",
       "<style scoped>\n",
       "    .dataframe tbody tr th:only-of-type {\n",
       "        vertical-align: middle;\n",
       "    }\n",
       "\n",
       "    .dataframe tbody tr th {\n",
       "        vertical-align: top;\n",
       "    }\n",
       "\n",
       "    .dataframe thead th {\n",
       "        text-align: right;\n",
       "    }\n",
       "</style>\n",
       "<table border=\"1\" class=\"dataframe\">\n",
       "  <thead>\n",
       "    <tr style=\"text-align: right;\">\n",
       "      <th></th>\n",
       "      <th>User Name</th>\n",
       "      <th>Yoga Studio</th>\n",
       "      <th>Restaurant</th>\n",
       "      <th>Park</th>\n",
       "      <th>Cinema</th>\n",
       "      <th>Mall</th>\n",
       "    </tr>\n",
       "  </thead>\n",
       "  <tbody>\n",
       "    <tr>\n",
       "      <th>0</th>\n",
       "      <td>Bagja</td>\n",
       "      <td>0</td>\n",
       "      <td>0</td>\n",
       "      <td>0</td>\n",
       "      <td>0</td>\n",
       "      <td>1</td>\n",
       "    </tr>\n",
       "  </tbody>\n",
       "</table>\n",
       "</div>"
      ],
      "text/plain": [
       "  User Name Yoga Studio Restaurant Park Cinema Mall\n",
       "0     Bagja           0          0    0      0    1"
      ]
     },
     "execution_count": 22,
     "metadata": {},
     "output_type": "execute_result"
    }
   ],
   "source": [
    "#FInalization of dataframe user\n",
    "df_user = pd.DataFrame(columns=['User Name', 'Yoga Studio', 'Restaurant', 'Park', 'Cinema', 'Mall'])\n",
    "#the user only want mall\n",
    "df_user.loc[0] = ['Bagja', 0, 0, 0, 0, 1]\n",
    "df_user"
   ]
  },
  {
   "cell_type": "markdown",
   "metadata": {},
   "source": [
    "After that, user table will find similarity with station that have preferenced venues and the result will be list of all station that match criteria"
   ]
  },
  {
   "cell_type": "code",
   "execution_count": null,
   "metadata": {},
   "outputs": [],
   "source": []
  }
 ],
 "metadata": {
  "kernelspec": {
   "display_name": "Python 3",
   "language": "python",
   "name": "python3"
  },
  "language_info": {
   "codemirror_mode": {
    "name": "ipython",
    "version": 3
   },
   "file_extension": ".py",
   "mimetype": "text/x-python",
   "name": "python",
   "nbconvert_exporter": "python",
   "pygments_lexer": "ipython3",
   "version": "3.7.6"
  }
 },
 "nbformat": 4,
 "nbformat_minor": 4
}
